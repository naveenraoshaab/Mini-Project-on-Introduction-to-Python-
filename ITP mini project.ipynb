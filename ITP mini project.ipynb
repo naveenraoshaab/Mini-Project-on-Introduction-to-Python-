{
 "cells": [
  {
   "cell_type": "code",
   "execution_count": 3,
   "id": "6e8e3bab",
   "metadata": {},
   "outputs": [
    {
     "ename": "SyntaxError",
     "evalue": "EOL while scanning string literal (Temp/ipykernel_5104/3577082929.py, line 1)",
     "output_type": "error",
     "traceback": [
      "\u001b[1;36m  File \u001b[1;32m\"C:\\Users\\pc\\AppData\\Local\\Temp/ipykernel_5104/3577082929.py\"\u001b[1;36m, line \u001b[1;32m1\u001b[0m\n\u001b[1;33m    spipments_details=['shipment id    sender   Receiver  start date   dilivery date sendr_location Receiver_location  Delivery status  shipping cost\u001b[0m\n\u001b[1;37m                                                                                                                                                     ^\u001b[0m\n\u001b[1;31mSyntaxError\u001b[0m\u001b[1;31m:\u001b[0m EOL while scanning string literal\n"
     ]
    }
   ],
   "source": [
    "spipments_details=['shipment id    sender   Receiver  start date   dilivery date sendr_location Receiver_location  Delivery status  shipping cost\n",
    "                   101              1         3      14-03-2020   25-03-2020       Area1            Area6             Delivered         198\n",
    "                   102              4         1      18-06-2020   09-07-2020       Area2            Area4             Delivered         275\n",
    "                   103              2         3      01-12-2020   Null             Area5            Area1             In-Transit        200\n",
    "                   104              1         5      23-06-2020   25-06-2020       Area1            Area4             Delivered         314\n",
    "                   105              3         4      29-08-2020   10-09-2020       Area5            Area3             Delivered         275\n",
    "                   106              5         2      28-06-2020   Null             Area3            Area1          "
   ]
  },
  {
   "cell_type": "code",
   "execution_count": 1,
   "id": "9df49f47",
   "metadata": {},
   "outputs": [],
   "source": [
    "shipment = {'shipment,senders,Receiver,start date,dilivery date,sendr_location,Receiver_location,Delivery status, shipping cost '}"
   ]
  },
  {
   "cell_type": "code",
   "execution_count": 2,
   "id": "4b4916c3",
   "metadata": {},
   "outputs": [
    {
     "ename": "NameError",
     "evalue": "name 'shipments' is not defined",
     "output_type": "error",
     "traceback": [
      "\u001b[1;31m---------------------------------------------------------------------------\u001b[0m",
      "\u001b[1;31mNameError\u001b[0m                                 Traceback (most recent call last)",
      "\u001b[1;32m~\\AppData\\Local\\Temp/ipykernel_5104/2587211962.py\u001b[0m in \u001b[0;36m<module>\u001b[1;34m\u001b[0m\n\u001b[1;32m----> 1\u001b[1;33m \u001b[0mshipments\u001b[0m\u001b[1;33m\u001b[0m\u001b[1;33m\u001b[0m\u001b[0m\n\u001b[0m",
      "\u001b[1;31mNameError\u001b[0m: name 'shipments' is not defined"
     ]
    }
   ],
   "source": [
    "shipments"
   ]
  },
  {
   "cell_type": "code",
   "execution_count": null,
   "id": "4148c424",
   "metadata": {},
   "outputs": [],
   "source": []
  }
 ],
 "metadata": {
  "kernelspec": {
   "display_name": "Python 3 (ipykernel)",
   "language": "python",
   "name": "python3"
  },
  "language_info": {
   "codemirror_mode": {
    "name": "ipython",
    "version": 3
   },
   "file_extension": ".py",
   "mimetype": "text/x-python",
   "name": "python",
   "nbconvert_exporter": "python",
   "pygments_lexer": "ipython3",
   "version": "3.9.7"
  }
 },
 "nbformat": 4,
 "nbformat_minor": 5
}
