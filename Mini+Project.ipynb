{
 "cells": [
  {
   "cell_type": "code",
   "execution_count": 1,
   "id": "7fabcc14",
   "metadata": {},
   "outputs": [],
   "source": [
    "#q1.Create a Dictionary of lists to store the information of shipments given in the table"
   ]
  },
  {
   "cell_type": "code",
   "execution_count": 11,
   "id": "ed627e61",
   "metadata": {},
   "outputs": [
    {
     "data": {
      "text/plain": [
       "{101: {'sender': 1,\n",
       "  'reciever': 3,\n",
       "  'start date': datetime.date(2020, 3, 14),\n",
       "  'delivery date': datetime.date(2020, 3, 25),\n",
       "  'sender_location': 1,\n",
       "  'reciever_location': 6,\n",
       "  'delivery status': 'delivered',\n",
       "  'shipping cost': '198'},\n",
       " 102: {'sender': 4,\n",
       "  'reciever': 1,\n",
       "  'start date': datetime.date(2020, 6, 18),\n",
       "  'delivery date': datetime.date(2020, 7, 9),\n",
       "  'sender_location': 2,\n",
       "  'reciever_location': 4,\n",
       "  'delivery status': 'delivered',\n",
       "  'shipping cost': '275'},\n",
       " 103: {'sender': 2,\n",
       "  'reciever': 3,\n",
       "  'start date': datetime.date(2020, 12, 1),\n",
       "  'delivery date': 'null',\n",
       "  'sender_location': 5,\n",
       "  'reciever_location': 1,\n",
       "  'delivery status': 'in-transit',\n",
       "  'shipping cost': '200'},\n",
       " 104: {'sender': 1,\n",
       "  'reciever': 5,\n",
       "  'start date': datetime.date(2020, 6, 23),\n",
       "  'delivery date': datetime.date(2020, 6, 25),\n",
       "  'sender_location': 1,\n",
       "  'reciever_location': 4,\n",
       "  'delivery status': 'delivered',\n",
       "  'shipping cost': '314'},\n",
       " 105: {'sender': 3,\n",
       "  'reciever': 4,\n",
       "  'start date': datetime.date(2020, 8, 29),\n",
       "  'delivery date': datetime.date(2020, 9, 10),\n",
       "  'sender_location': 5,\n",
       "  'reciever_location': 3,\n",
       "  'delivery status': 'delivered',\n",
       "  'shipping cost': '275'},\n",
       " 106: {'sender': 5,\n",
       "  'reciever': 2,\n",
       "  'start date': datetime.date(2020, 6, 28),\n",
       "  'delivery date': 'null',\n",
       "  'sender_location': 3,\n",
       "  'reciever_location': 1,\n",
       "  'delivery status': 'in-transit',\n",
       "  'shipping cost': '270'}}"
      ]
     },
     "execution_count": 11,
     "metadata": {},
     "output_type": "execute_result"
    }
   ],
   "source": [
    "import datetime\n",
    "dict_customer={101:{'sender':1,'reciever':3,'start date':datetime.date(2020,3,14),'delivery date':datetime.date(2020,3,25),\n",
    "                      'sender_location':1,'reciever_location':6,'delivery status':'delivered',\n",
    "                      'shipping cost':'198'},\n",
    "               102:{'sender':4,'reciever':1,'start date':datetime.date(2020,6,18),'delivery date':datetime.date(2020,7,9),\n",
    "                      'sender_location':2,'reciever_location':4,'delivery status':'delivered',\n",
    "                      'shipping cost':'275'},\n",
    "               103:{'sender':2,'reciever':3,'start date':datetime.date(2020,12,1),'delivery date':'null',\n",
    "                      'sender_location':5,'reciever_location':1,'delivery status':'in-transit',\n",
    "                      'shipping cost':'200'},\n",
    "               104:{'sender':1,'reciever':5,'start date':datetime.date(2020,6,23),'delivery date':datetime.date(2020,6,25),\n",
    "                      'sender_location':1,'reciever_location':4,'delivery status':'delivered',\n",
    "                      'shipping cost':'314'},\n",
    "               105:{'sender':3,'reciever':4,'start date':datetime.date(2020,8,29),'delivery date':datetime.date(2020,9,10),\n",
    "                      'sender_location':5,'reciever_location':3,'delivery status':'delivered',\n",
    "                      'shipping cost':'275'},\n",
    "               106:{'sender':5,'reciever':2,'start date':datetime.date(2020,6,28),'delivery date':'null',\n",
    "                      'sender_location':3,'reciever_location':1,'delivery status':'in-transit',\n",
    "                      'shipping cost':'270'}}\n",
    "dict_customer"
   ]
  },
  {
   "cell_type": "code",
   "execution_count": 3,
   "id": "5bcd1efe",
   "metadata": {},
   "outputs": [],
   "source": [
    "#q2.Create a Dictionary of to store the information of clients given in the table."
   ]
  },
  {
   "cell_type": "code",
   "execution_count": 80,
   "id": "b00fe892",
   "metadata": {},
   "outputs": [],
   "source": [
    "dict_id={1:'Philip',2:'Omega III',3:'Ramya',4:'Romesh',5:'John'}"
   ]
  },
  {
   "cell_type": "code",
   "execution_count": 55,
   "id": "f344a6af",
   "metadata": {},
   "outputs": [],
   "source": [
    "#q3.Write a code to replace client’s id with their respective name in shipment dictionary using a loop and \n",
    "### dictionary comprehension\n",
    "\n"
   ]
  },
  {
   "cell_type": "code",
   "execution_count": 82,
   "id": "4b41aa13",
   "metadata": {},
   "outputs": [
    {
     "name": "stdout",
     "output_type": "stream",
     "text": [
      "{101: {'sender': 'Philip', 'reciever': 'Ramya', 'start date': datetime.date(2020, 3, 14), 'delivery date': datetime.date(2020, 3, 25), 'sender_location': 1, 'reciever_location': 6, 'delivery status': 'delivered', 'shipping cost': '198'}, 102: {'sender': 'Romesh', 'reciever': 'Philip', 'start date': datetime.date(2020, 6, 18), 'delivery date': datetime.date(2020, 7, 9), 'sender_location': 2, 'reciever_location': 4, 'delivery status': 'delivered', 'shipping cost': '275'}, 103: {'sender': 'Omega III', 'reciever': 'Ramya', 'start date': datetime.date(2020, 12, 1), 'delivery date': 'null', 'sender_location': 5, 'reciever_location': 1, 'delivery status': 'in-transit', 'shipping cost': '200'}, 104: {'sender': 'Philip', 'reciever': 'John', 'start date': datetime.date(2020, 6, 23), 'delivery date': datetime.date(2020, 6, 25), 'sender_location': 1, 'reciever_location': 4, 'delivery status': 'delivered', 'shipping cost': '314'}, 105: {'sender': 'Ramya', 'reciever': 'Romesh', 'start date': datetime.date(2020, 8, 29), 'delivery date': datetime.date(2020, 9, 10), 'sender_location': 5, 'reciever_location': 3, 'delivery status': 'delivered', 'shipping cost': '275'}, 106: {'sender': 'John', 'reciever': 'Omega III', 'start date': datetime.date(2020, 6, 28), 'delivery date': 'null', 'sender_location': 3, 'reciever_location': 1, 'delivery status': 'in-transit', 'shipping cost': '270'}}\n"
     ]
    }
   ],
   "source": [
    "for i in dict_customer:\n",
    "    for j in dict_id:\n",
    "        if dict_customer[i]['sender']==j:\n",
    "            dict_customer[i]['sender']=dict_id[j]\n",
    "        elif dict_customer[i]['reciever']==j:\n",
    "            dict_customer[i]['reciever']=dict_id[j]\n",
    "print(dict_customer)"
   ]
  },
  {
   "cell_type": "code",
   "execution_count": null,
   "id": "60b924d9",
   "metadata": {},
   "outputs": [],
   "source": [
    "#q4.Print all shipment details that are sent by Phillip"
   ]
  },
  {
   "cell_type": "code",
   "execution_count": 58,
   "id": "ffef4a1b",
   "metadata": {},
   "outputs": [
    {
     "name": "stdout",
     "output_type": "stream",
     "text": [
      "Shipment send by Philip-  101 {'sender': 'Philip', 'reciever': 'Ramya', 'start date': datetime.date(2020, 3, 14), 'delivery date': datetime.date(2020, 3, 25), 'sender_location': 1, 'reciever_location': 6, 'delivery status': 'delivered', 'shipping cost': '198'}\n",
      "Shipment send by Philip-  104 {'sender': 'Philip', 'reciever': 'John', 'start date': datetime.date(2020, 6, 23), 'delivery date': datetime.date(2020, 6, 25), 'sender_location': 1, 'reciever_location': 4, 'delivery status': 'delivered', 'shipping cost': '314'}\n"
     ]
    }
   ],
   "source": [
    "for i in dict_customer:\n",
    "    if dict_customer[i]['sender']=='Philip':\n",
    "        print('Shipment send by Philip- ',i,dict_customer[i])"
   ]
  },
  {
   "cell_type": "code",
   "execution_count": null,
   "id": "2d824cbf",
   "metadata": {},
   "outputs": [],
   "source": [
    "#q5.Print all shipment details that are received by Ramya\n",
    "\n"
   ]
  },
  {
   "cell_type": "code",
   "execution_count": 59,
   "id": "65f12794",
   "metadata": {},
   "outputs": [
    {
     "name": "stdout",
     "output_type": "stream",
     "text": [
      "Shipment recieved my Ramya-  101 {'sender': 'Philip', 'reciever': 'Ramya', 'start date': datetime.date(2020, 3, 14), 'delivery date': datetime.date(2020, 3, 25), 'sender_location': 1, 'reciever_location': 6, 'delivery status': 'delivered', 'shipping cost': '198'}\n",
      "Shipment recieved my Ramya-  103 {'sender': 'Omega III', 'reciever': 'Ramya', 'start date': datetime.date(2020, 12, 1), 'delivery date': 'null', 'sender_location': 5, 'reciever_location': 1, 'delivery status': 'in-transit', 'shipping cost': '200'}\n"
     ]
    }
   ],
   "source": [
    "for i in dict_customer:\n",
    "    if dict_customer[i]['reciever']=='Ramya':\n",
    "        print('Shipment recieved my Ramya- ',i,dict_customer[i])"
   ]
  },
  {
   "cell_type": "code",
   "execution_count": null,
   "id": "d17e2cd9",
   "metadata": {},
   "outputs": [],
   "source": [
    "#q6.Print all shipments which are in 'In-Transit' status\n",
    "\n"
   ]
  },
  {
   "cell_type": "code",
   "execution_count": 60,
   "id": "1e0bca9a",
   "metadata": {},
   "outputs": [
    {
     "name": "stdout",
     "output_type": "stream",
     "text": [
      "Shipment still in transit-  103 {'sender': 'Omega III', 'reciever': 'Ramya', 'start date': datetime.date(2020, 12, 1), 'delivery date': 'null', 'sender_location': 5, 'reciever_location': 1, 'delivery status': 'in-transit', 'shipping cost': '200'}\n",
      "Shipment still in transit-  106 {'sender': 'John', 'reciever': 'Omega III', 'start date': datetime.date(2020, 6, 28), 'delivery date': 'null', 'sender_location': 3, 'reciever_location': 1, 'delivery status': 'in-transit', 'shipping cost': '270'}\n"
     ]
    }
   ],
   "source": [
    "for i in dict_customer:\n",
    "    if dict_customer[i]['delivery status']=='in-transit':\n",
    "        print('Shipment still in transit- ',i,dict_customer[i])"
   ]
  },
  {
   "cell_type": "code",
   "execution_count": null,
   "id": "a34b4077",
   "metadata": {},
   "outputs": [],
   "source": [
    "#q7.Print all shipments which are delivered within 7 days of courier Start date\n",
    "\n"
   ]
  },
  {
   "cell_type": "code",
   "execution_count": 61,
   "id": "8349066c",
   "metadata": {},
   "outputs": [
    {
     "name": "stdout",
     "output_type": "stream",
     "text": [
      "Shipment delivered within 7 days-  104 {'sender': 'Philip', 'reciever': 'John', 'start date': datetime.date(2020, 6, 23), 'delivery date': datetime.date(2020, 6, 25), 'sender_location': 1, 'reciever_location': 4, 'delivery status': 'delivered', 'shipping cost': '314'}\n"
     ]
    }
   ],
   "source": [
    "for i in dict_customer:\n",
    "    if dict_customer[i]['delivery date']=='null':\n",
    "        continue\n",
    "    elif (dict_customer[i]['delivery date']-dict_customer[i]['start date']).days < 7:\n",
    "        print('Shipment delivered within 7 days- ',i,dict_customer[i])"
   ]
  },
  {
   "cell_type": "code",
   "execution_count": 38,
   "id": "519be917",
   "metadata": {
    "scrolled": true
   },
   "outputs": [],
   "source": [
    "#q8.Print all shipments which are delivered after 15 days of courier start date or not yet been delivered."
   ]
  },
  {
   "cell_type": "code",
   "execution_count": 62,
   "id": "52f59018",
   "metadata": {},
   "outputs": [
    {
     "name": "stdout",
     "output_type": "stream",
     "text": [
      "Shipment delivered after 15 days= 102 {'sender': 'Romesh', 'reciever': 'Philip', 'start date': datetime.date(2020, 6, 18), 'delivery date': datetime.date(2020, 7, 9), 'sender_location': 2, 'reciever_location': 4, 'delivery status': 'delivered', 'shipping cost': '275'}\n",
      "Shipment not yet delivered= 103 {'sender': 'Omega III', 'reciever': 'Ramya', 'start date': datetime.date(2020, 12, 1), 'delivery date': 'null', 'sender_location': 5, 'reciever_location': 1, 'delivery status': 'in-transit', 'shipping cost': '200'}\n",
      "Shipment not yet delivered= 106 {'sender': 'John', 'reciever': 'Omega III', 'start date': datetime.date(2020, 6, 28), 'delivery date': 'null', 'sender_location': 3, 'reciever_location': 1, 'delivery status': 'in-transit', 'shipping cost': '270'}\n"
     ]
    }
   ],
   "source": [
    "for i in dict_customer:\n",
    "    if dict_customer[i]['delivery date']=='null':\n",
    "        print('Shipment not yet delivered=',i,dict_customer[i])\n",
    "    elif (dict_customer[i]['delivery date']-dict_customer[i]['start date']).days>15:\n",
    "        print('Shipment delivered after 15 days=',i,dict_customer[i])"
   ]
  },
  {
   "cell_type": "code",
   "execution_count": null,
   "id": "cccb0bac",
   "metadata": {},
   "outputs": [],
   "source": [
    "#q9.Write a function find_all_routes to display all possible routes from senders location to receivers \n",
    "#   location given in the dictionary for each shipment."
   ]
  },
  {
   "cell_type": "code",
   "execution_count": 63,
   "id": "e8c77535",
   "metadata": {},
   "outputs": [],
   "source": [
    "def all_routes(mat,a,b,visited,path):\n",
    "    visited[a]=True\n",
    "    path.append(a+1)\n",
    "    if a==b:\n",
    "        print(path)\n",
    "    else:\n",
    "        for i in range(6):\n",
    "            if mat[a][i]==1 and (visited[i]==False):\n",
    "                all_routes(mat,i,b,visited,path)\n",
    "    path.pop()\n",
    "    visited[a]=False\n",
    "mat=[[0,1,0,0,0,1],[1,0,1,1,0,0],[0,1,0,1,0,0],[0,1,1,0,1,0],[0,0,0,1,0,0],[1,0,0,0,0,0]]\n",
    "visited=[False for i in range(6)]\n",
    "path=[]"
   ]
  },
  {
   "cell_type": "code",
   "execution_count": 64,
   "id": "d5f60087",
   "metadata": {},
   "outputs": [
    {
     "name": "stdout",
     "output_type": "stream",
     "text": [
      "Shipment id:-  101\n",
      "Sender's location:-  1\n",
      "Reciever's location:-  6\n",
      "All possible route: \n",
      "[1, 6]\n",
      "***********************************************\n",
      "Shipment id:-  102\n",
      "Sender's location:-  2\n",
      "Reciever's location:-  4\n",
      "All possible route: \n",
      "[2, 3, 4]\n",
      "[2, 4]\n",
      "***********************************************\n",
      "Shipment id:-  103\n",
      "Sender's location:-  5\n",
      "Reciever's location:-  1\n",
      "All possible route: \n",
      "[5, 4, 2, 1]\n",
      "[5, 4, 3, 2, 1]\n",
      "***********************************************\n",
      "Shipment id:-  104\n",
      "Sender's location:-  1\n",
      "Reciever's location:-  4\n",
      "All possible route: \n",
      "[1, 2, 3, 4]\n",
      "[1, 2, 4]\n",
      "***********************************************\n",
      "Shipment id:-  105\n",
      "Sender's location:-  5\n",
      "Reciever's location:-  3\n",
      "All possible route: \n",
      "[5, 4, 2, 3]\n",
      "[5, 4, 3]\n",
      "***********************************************\n",
      "Shipment id:-  106\n",
      "Sender's location:-  3\n",
      "Reciever's location:-  1\n",
      "All possible route: \n",
      "[3, 2, 1]\n",
      "[3, 4, 2, 1]\n",
      "***********************************************\n"
     ]
    }
   ],
   "source": [
    "def all_show(dict_customer):\n",
    "    for i in dict_customer:\n",
    "        print('Shipment id:- ',i)\n",
    "        c=int(dict_customer[i]['sender_location'])\n",
    "        print(\"Sender's location:- \",c)\n",
    "        d=int(dict_customer[i]['reciever_location'])\n",
    "        print(\"Reciever's location:- \",d)\n",
    "        print('All possible route: ')\n",
    "        all_routes(mat,c-1,d-1,visited,path)\n",
    "        print('***********************************************')\n",
    "all_show(dict_customer)"
   ]
  }
 ],
 "metadata": {
  "kernelspec": {
   "display_name": "Python 3 (ipykernel)",
   "language": "python",
   "name": "python3"
  },
  "language_info": {
   "codemirror_mode": {
    "name": "ipython",
    "version": 3
   },
   "file_extension": ".py",
   "mimetype": "text/x-python",
   "name": "python",
   "nbconvert_exporter": "python",
   "pygments_lexer": "ipython3",
   "version": "3.9.7"
  }
 },
 "nbformat": 4,
 "nbformat_minor": 5
}
